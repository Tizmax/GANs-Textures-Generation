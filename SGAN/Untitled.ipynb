{
 "cells": [
  {
   "cell_type": "code",
   "execution_count": 3,
   "id": "eb724825-41e8-450d-8323-662bec7be46a",
   "metadata": {},
   "outputs": [],
   "source": [
    "import torch\n",
    "import torch.nn as nn"
   ]
  },
  {
   "cell_type": "code",
   "execution_count": 4,
   "id": "576b6eb5-6dfd-4969-8e46-6436b2fba5f6",
   "metadata": {},
   "outputs": [],
   "source": [
    "class Generator(nn.Module):\n",
    "    def __init__(self, nz=50, ngf=[512, 256, 128, 64], nc=3):\n",
    "        super().__init__()\n",
    "        self.net = nn.Sequential(\n",
    "            nn.ConvTranspose2d(nz, ngf[0], 5, stride=2, padding=2, output_padding=1),\n",
    "            nn.BatchNorm2d(ngf[0]),\n",
    "            nn.ReLU(True),\n",
    "\n",
    "            nn.ConvTranspose2d(ngf[0], ngf[1], 5, stride=2, padding=2, output_padding=1),\n",
    "            nn.BatchNorm2d(ngf[1]),\n",
    "            nn.ReLU(True),\n",
    "\n",
    "            nn.ConvTranspose2d(ngf[1], ngf[2], 5, stride=2, padding=2, output_padding=1),\n",
    "            nn.BatchNorm2d(ngf[2]),\n",
    "            nn.ReLU(True),\n",
    "\n",
    "            nn.ConvTranspose2d(ngf[2], ngf[3], 5, stride=2, padding=2, output_padding=1),\n",
    "            nn.BatchNorm2d(ngf[3]),\n",
    "            nn.ReLU(True),\n",
    "\n",
    "            nn.ConvTranspose2d(ngf[3], nc, 5, stride=2, padding=2, output_padding=1),\n",
    "            nn.Tanh()\n",
    "        )\n",
    "        # --- Version généralisée équivalente ---\n",
    "        layers = []\n",
    "        in_channels = nz \n",
    "\n",
    "        # Main Blocs (ConvT -> BatchNorm -> ReLU)\n",
    "        for out_channels in ngf:\n",
    "            layers.extend([\n",
    "                nn.ConvTranspose2d(in_channels, out_channels, 5, stride=2, padding=2, output_padding=1),\n",
    "                nn.BatchNorm2d(out_channels),\n",
    "                nn.ReLU(True)\n",
    "            ])\n",
    "            in_channels = out_channels \n",
    "\n",
    "        # last bloc (ConvT -> Tanh)\n",
    "        layers.append(nn.ConvTranspose2d(in_channels, nc, 5, stride=2, padding=2, output_padding=1))\n",
    "        layers.append(nn.Tanh())\n",
    "\n",
    "        self.net2 = nn.Sequential(*layers)\n",
    "\n",
    "    def forward(self, z):\n",
    "        return self.net(z)"
   ]
  },
  {
   "cell_type": "code",
   "execution_count": 5,
   "id": "6ac2a942-1711-4141-a3fc-294f87a8f616",
   "metadata": {},
   "outputs": [
    {
     "name": "stdout",
     "output_type": "stream",
     "text": [
      "Sequential(\n",
      "  (0): ConvTranspose2d(50, 512, kernel_size=(5, 5), stride=(2, 2), padding=(2, 2), output_padding=(1, 1))\n",
      "  (1): BatchNorm2d(512, eps=1e-05, momentum=0.1, affine=True, track_running_stats=True)\n",
      "  (2): ReLU(inplace=True)\n",
      "  (3): ConvTranspose2d(512, 256, kernel_size=(5, 5), stride=(2, 2), padding=(2, 2), output_padding=(1, 1))\n",
      "  (4): BatchNorm2d(256, eps=1e-05, momentum=0.1, affine=True, track_running_stats=True)\n",
      "  (5): ReLU(inplace=True)\n",
      "  (6): ConvTranspose2d(256, 128, kernel_size=(5, 5), stride=(2, 2), padding=(2, 2), output_padding=(1, 1))\n",
      "  (7): BatchNorm2d(128, eps=1e-05, momentum=0.1, affine=True, track_running_stats=True)\n",
      "  (8): ReLU(inplace=True)\n",
      "  (9): ConvTranspose2d(128, 64, kernel_size=(5, 5), stride=(2, 2), padding=(2, 2), output_padding=(1, 1))\n",
      "  (10): BatchNorm2d(64, eps=1e-05, momentum=0.1, affine=True, track_running_stats=True)\n",
      "  (11): ReLU(inplace=True)\n",
      "  (12): ConvTranspose2d(64, 3, kernel_size=(5, 5), stride=(2, 2), padding=(2, 2), output_padding=(1, 1))\n",
      "  (13): Tanh()\n",
      ")\n",
      "Sequential(\n",
      "  (0): ConvTranspose2d(50, 512, kernel_size=(5, 5), stride=(2, 2), padding=(2, 2), output_padding=(1, 1))\n",
      "  (1): BatchNorm2d(512, eps=1e-05, momentum=0.1, affine=True, track_running_stats=True)\n",
      "  (2): ReLU(inplace=True)\n",
      "  (3): ConvTranspose2d(512, 256, kernel_size=(5, 5), stride=(2, 2), padding=(2, 2), output_padding=(1, 1))\n",
      "  (4): BatchNorm2d(256, eps=1e-05, momentum=0.1, affine=True, track_running_stats=True)\n",
      "  (5): ReLU(inplace=True)\n",
      "  (6): ConvTranspose2d(256, 128, kernel_size=(5, 5), stride=(2, 2), padding=(2, 2), output_padding=(1, 1))\n",
      "  (7): BatchNorm2d(128, eps=1e-05, momentum=0.1, affine=True, track_running_stats=True)\n",
      "  (8): ReLU(inplace=True)\n",
      "  (9): ConvTranspose2d(128, 64, kernel_size=(5, 5), stride=(2, 2), padding=(2, 2), output_padding=(1, 1))\n",
      "  (10): BatchNorm2d(64, eps=1e-05, momentum=0.1, affine=True, track_running_stats=True)\n",
      "  (11): ReLU(inplace=True)\n",
      "  (12): ConvTranspose2d(64, 3, kernel_size=(5, 5), stride=(2, 2), padding=(2, 2), output_padding=(1, 1))\n",
      "  (13): Tanh()\n",
      ")\n"
     ]
    }
   ],
   "source": [
    "gen = Generator()\n",
    "print(gen.net)\n",
    "print(gen.net2)"
   ]
  },
  {
   "cell_type": "code",
   "execution_count": 12,
   "id": "f46f0795-467f-474c-a61e-346abaadd973",
   "metadata": {},
   "outputs": [
    {
     "data": {
      "text/plain": [
       "True"
      ]
     },
     "execution_count": 12,
     "metadata": {},
     "output_type": "execute_result"
    }
   ],
   "source": [
    "str(gen.net) == str(gen.net2) "
   ]
  },
  {
   "cell_type": "code",
   "execution_count": 15,
   "id": "a945fafe-356e-436a-b970-1573e5a39ee9",
   "metadata": {},
   "outputs": [],
   "source": [
    "class Discriminator(nn.Module):\n",
    "    def __init__(self, nc=3, ndf=[64, 128, 256, 512]):\n",
    "        super().__init__()\n",
    "        self.net = nn.Sequential(\n",
    "            nn.Conv2d(nc, ndf[0], 5, stride=2, padding=2),\n",
    "            nn.LeakyReLU(0.2, inplace=True),\n",
    "\n",
    "            nn.Conv2d(ndf[0], ndf[1], 5, stride=2, padding=2),\n",
    "            nn.BatchNorm2d(ndf[1]),\n",
    "            nn.LeakyReLU(0.2, inplace=True),\n",
    "\n",
    "            nn.Conv2d(ndf[1], ndf[2], 5, stride=2, padding=2),\n",
    "            nn.BatchNorm2d(ndf[2]),\n",
    "            nn.LeakyReLU(0.2, inplace=True),\n",
    "\n",
    "            nn.Conv2d(ndf[2], ndf[3], 5, stride=2, padding=2),\n",
    "            nn.BatchNorm2d(ndf[3]),\n",
    "            nn.LeakyReLU(0.2, inplace=True),\n",
    "\n",
    "            nn.Conv2d(ndf[3], 1, 5, stride=2, padding=2),\n",
    "            nn.Sigmoid()\n",
    "        )\n",
    "        # --- Version généralisée équivalente ---\n",
    "        # Premiers layers (Sans BatchNorm\n",
    "        layers = [nn.Conv2d(nc, ndf[0], 5, stride=2, padding=2),\n",
    "                nn.LeakyReLU(0.2, inplace=True),]\n",
    "        in_channels = ndf[0]\n",
    "\n",
    "        # Main Blocs (Conv -> BatchNorm -> LeakyReLU)\n",
    "        for out_channels in ndf[1:]:\n",
    "            layers.extend([\n",
    "                nn.Conv2d(in_channels, out_channels, 5, stride=2, padding=2),\n",
    "                nn.BatchNorm2d(out_channels),\n",
    "                nn.LeakyReLU(0.2, inplace=True),\n",
    "            ])\n",
    "            in_channels = out_channels \n",
    "\n",
    "        # last bloc (Conv -> Sigmoid)\n",
    "        layers.append(nn.Conv2d(in_channels, 1, 5, stride=2, padding=2))\n",
    "        layers.append(nn.Sigmoid())\n",
    "\n",
    "        self.net2 = nn.Sequential(*layers)\n",
    "\n",
    "    def forward(self, x):\n",
    "        return self.net(x)"
   ]
  },
  {
   "cell_type": "code",
   "execution_count": 16,
   "id": "bf965a0a-0205-4007-a2c0-563dafcd56a7",
   "metadata": {},
   "outputs": [
    {
     "name": "stdout",
     "output_type": "stream",
     "text": [
      "Sequential(\n",
      "  (0): Conv2d(3, 64, kernel_size=(5, 5), stride=(2, 2), padding=(2, 2))\n",
      "  (1): LeakyReLU(negative_slope=0.2, inplace=True)\n",
      "  (2): Conv2d(64, 128, kernel_size=(5, 5), stride=(2, 2), padding=(2, 2))\n",
      "  (3): BatchNorm2d(128, eps=1e-05, momentum=0.1, affine=True, track_running_stats=True)\n",
      "  (4): LeakyReLU(negative_slope=0.2, inplace=True)\n",
      "  (5): Conv2d(128, 256, kernel_size=(5, 5), stride=(2, 2), padding=(2, 2))\n",
      "  (6): BatchNorm2d(256, eps=1e-05, momentum=0.1, affine=True, track_running_stats=True)\n",
      "  (7): LeakyReLU(negative_slope=0.2, inplace=True)\n",
      "  (8): Conv2d(256, 512, kernel_size=(5, 5), stride=(2, 2), padding=(2, 2))\n",
      "  (9): BatchNorm2d(512, eps=1e-05, momentum=0.1, affine=True, track_running_stats=True)\n",
      "  (10): LeakyReLU(negative_slope=0.2, inplace=True)\n",
      "  (11): Conv2d(512, 1, kernel_size=(5, 5), stride=(2, 2), padding=(2, 2))\n",
      "  (12): Sigmoid()\n",
      ")\n",
      "Sequential(\n",
      "  (0): Conv2d(3, 64, kernel_size=(5, 5), stride=(2, 2), padding=(2, 2))\n",
      "  (1): LeakyReLU(negative_slope=0.2, inplace=True)\n",
      "  (2): Conv2d(64, 128, kernel_size=(5, 5), stride=(2, 2), padding=(2, 2))\n",
      "  (3): BatchNorm2d(128, eps=1e-05, momentum=0.1, affine=True, track_running_stats=True)\n",
      "  (4): LeakyReLU(negative_slope=0.2, inplace=True)\n",
      "  (5): Conv2d(128, 256, kernel_size=(5, 5), stride=(2, 2), padding=(2, 2))\n",
      "  (6): BatchNorm2d(256, eps=1e-05, momentum=0.1, affine=True, track_running_stats=True)\n",
      "  (7): LeakyReLU(negative_slope=0.2, inplace=True)\n",
      "  (8): Conv2d(256, 512, kernel_size=(5, 5), stride=(2, 2), padding=(2, 2))\n",
      "  (9): BatchNorm2d(512, eps=1e-05, momentum=0.1, affine=True, track_running_stats=True)\n",
      "  (10): LeakyReLU(negative_slope=0.2, inplace=True)\n",
      "  (11): Conv2d(512, 1, kernel_size=(5, 5), stride=(2, 2), padding=(2, 2))\n",
      "  (12): Sigmoid()\n",
      ")\n"
     ]
    }
   ],
   "source": [
    "dis = Discriminator()\n",
    "print(dis.net)\n",
    "print(dis.net2)"
   ]
  },
  {
   "cell_type": "code",
   "execution_count": 17,
   "id": "66339e68-454f-4b62-8e52-3d84633104fa",
   "metadata": {},
   "outputs": [
    {
     "data": {
      "text/plain": [
       "True"
      ]
     },
     "execution_count": 17,
     "metadata": {},
     "output_type": "execute_result"
    }
   ],
   "source": [
    "str(dis.net) == str(dis.net2) "
   ]
  },
  {
   "cell_type": "code",
   "execution_count": null,
   "id": "98c62131-2e04-4ac6-b151-c159ea463a18",
   "metadata": {},
   "outputs": [],
   "source": []
  }
 ],
 "metadata": {
  "kernelspec": {
   "display_name": "env_SGAN",
   "language": "python",
   "name": "env_sgan"
  },
  "language_info": {
   "codemirror_mode": {
    "name": "ipython",
    "version": 3
   },
   "file_extension": ".py",
   "mimetype": "text/x-python",
   "name": "python",
   "nbconvert_exporter": "python",
   "pygments_lexer": "ipython3",
   "version": "3.10.12"
  }
 },
 "nbformat": 4,
 "nbformat_minor": 5
}
